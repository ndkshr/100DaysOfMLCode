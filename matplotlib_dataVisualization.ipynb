{
  "nbformat": 4,
  "nbformat_minor": 0,
  "metadata": {
    "colab": {
      "name": "matplotlib_dataVisualization_Tutorial_1.ipynb",
      "version": "0.3.2",
      "provenance": [],
      "include_colab_link": true
    },
    "kernelspec": {
      "name": "python3",
      "display_name": "Python 3"
    }
  },
  "cells": [
    {
      "cell_type": "markdown",
      "metadata": {
        "id": "view-in-github",
        "colab_type": "text"
      },
      "source": [
        "[View in Colaboratory](https://colab.research.google.com/github/ndkshr/100DaysOfMLCode/blob/master/matplotlib_dataVisualization.ipynb)"
      ]
    },
    {
      "metadata": {
        "id": "HJkOhlNoFv9o",
        "colab_type": "text"
      },
      "cell_type": "markdown",
      "source": [
        "# Matplotlib \n",
        "## *Self study python notebook*\n",
        "\n",
        "The @Sentdex tutorial for matplot lib data visualization.\n",
        "\n",
        "\n"
      ]
    },
    {
      "metadata": {
        "id": "WeTtwDP7HHFr",
        "colab_type": "code",
        "colab": {}
      },
      "cell_type": "code",
      "source": [
        "import matplotlib.pyplot as plt"
      ],
      "execution_count": 0,
      "outputs": []
    },
    {
      "metadata": {
        "id": "oGeLPFo8LjvX",
        "colab_type": "code",
        "colab": {}
      },
      "cell_type": "code",
      "source": [
        "plt.plot([1,2,3,4,5], [6, 7, 8, 9, 10])"
      ],
      "execution_count": 0,
      "outputs": []
    },
    {
      "metadata": {
        "id": "cgr7yzhsMHO6",
        "colab_type": "code",
        "colab": {}
      },
      "cell_type": "code",
      "source": [
        "plt.show()"
      ],
      "execution_count": 0,
      "outputs": []
    },
    {
      "metadata": {
        "id": "xb7fEM0xMTql",
        "colab_type": "code",
        "colab": {}
      },
      "cell_type": "code",
      "source": [
        "x = [1, 2, 3, 4]\n",
        "y = [5, 6, 7, 8]"
      ],
      "execution_count": 0,
      "outputs": []
    },
    {
      "metadata": {
        "id": "DdO5xExfOcT4",
        "colab_type": "code",
        "colab": {}
      },
      "cell_type": "code",
      "source": [
        "plt.xlabel('X axis')\n",
        "plt.ylabel('Y axis')\n",
        "\n",
        "\n",
        "plt.title('Whatever the title is !\\ncheck this out')\n"
      ],
      "execution_count": 0,
      "outputs": []
    },
    {
      "metadata": {
        "id": "Sett2OQmOlf4",
        "colab_type": "code",
        "colab": {
          "base_uri": "https://localhost:8080/",
          "height": 390
        },
        "outputId": "3e0f295b-f154-4988-9145-c2175dc49623"
      },
      "cell_type": "code",
      "source": [
        "x2 = [6, 7, 8]\n",
        "y2 = [10, 11, 2]\n",
        "\n",
        "\n",
        "plt.xlabel('X axis')\n",
        "\n",
        "plt.ylabel('Y axis')\n",
        "\n",
        "plt.title('Whatever the title is !\\ncheck this out')\n",
        "plt.bar(x, y, label = 'Second line')\n",
        "plt.bar(x2, y2, label='First line')\n",
        "plt.legend()\n",
        "plt.show()"
      ],
      "execution_count": 20,
      "outputs": [
        {
          "output_type": "display_data",
          "data": {
            "image/png": "[encoded data removed]",
            "text/plain": [
              "<matplotlib.figure.Figure at 0x7f6e3b1211d0>"
            ]
          },
          "metadata": {
            "tags": []
          }
        }
      ]
    },
    {
      "metadata": {
        "id": "WT94we-8mWMp",
        "colab_type": "code",
        "colab": {
          "base_uri": "https://localhost:8080/",
          "height": 399
        },
        "outputId": "aac0cead-d19f-4cf8-ca22-b922c66d11a4"
      },
      "cell_type": "code",
      "source": [
        "bins = [0,10,20,30,40,50,60,70,80, 90,100]\n",
        "population = [1,5,6,4,6,7,54,1,5,65,78,32,4,59,4,5,66,9,90,55,44,44]\n",
        "plt.hist(population, bins, histtype = 'bar', rwidth = 0.7)"
      ],
      "execution_count": 26,
      "outputs": [
        {
          "output_type": "execute_result",
          "data": {
            "text/plain": [
              "(array([12.,  0.,  0.,  1.,  2.,  3.,  2.,  1.,  0.,  1.]),\n",
              " array([  0,  10,  20,  30,  40,  50,  60,  70,  80,  90, 100]),\n",
              " <a list of 10 Patch objects>)"
            ]
          },
          "metadata": {
            "tags": []
          },
          "execution_count": 26
        },
        {
          "output_type": "display_data",
          "data": {
            "image/png": "[encoded data removed]",
            "text/plain": [
              "<matplotlib.figure.Figure at 0x7f6e3ad45a20>"
            ]
          },
          "metadata": {
            "tags": []
          }
        }
      ]
    },
    {
      "metadata": {
        "id": "Z18ERK_tufcQ",
        "colab_type": "code",
        "colab": {
          "base_uri": "https://localhost:8080/",
          "height": 34
        },
        "outputId": "94312ab2-69f9-4541-bdbb-df67b6967d6b"
      },
      "cell_type": "code",
      "source": [
        "x"
      ],
      "execution_count": 27,
      "outputs": [
        {
          "output_type": "execute_result",
          "data": {
            "text/plain": [
              "[1, 2, 3, 4]"
            ]
          },
          "metadata": {
            "tags": []
          },
          "execution_count": 27
        }
      ]
    },
    {
      "metadata": {
        "id": "JMO0b6Ra1K8A",
        "colab_type": "code",
        "colab": {
          "base_uri": "https://localhost:8080/",
          "height": 34
        },
        "outputId": "9ff79c63-f522-4626-b912-7c85907840e3"
      },
      "cell_type": "code",
      "source": [
        "y"
      ],
      "execution_count": 28,
      "outputs": [
        {
          "output_type": "execute_result",
          "data": {
            "text/plain": [
              "[5, 6, 7, 8]"
            ]
          },
          "metadata": {
            "tags": []
          },
          "execution_count": 28
        }
      ]
    },
    {
      "metadata": {
        "id": "RATzBuyi1LsH",
        "colab_type": "code",
        "colab": {
          "base_uri": "https://localhost:8080/",
          "height": 364
        },
        "outputId": "34f5f2ba-ac6b-4f71-b73e-a324017db82e"
      },
      "cell_type": "code",
      "source": [
        "plt.scatter(x, y, label = 'skitscat' , color = 'black', marker = 'x', s = 50)"
      ],
      "execution_count": 44,
      "outputs": [
        {
          "output_type": "execute_result",
          "data": {
            "text/plain": [
              "<matplotlib.collections.PathCollection at 0x7f6e3ab5c6a0>"
            ]
          },
          "metadata": {
            "tags": []
          },
          "execution_count": 44
        },
        {
          "output_type": "display_data",
          "data": {
            "image/png": "[encoded data removed]",
            "text/plain": [
              "<matplotlib.figure.Figure at 0x7f6e3aa5c208>"
            ]
          },
          "metadata": {
            "tags": []
          }
        }
      ]
    },
    {
      "metadata": {
        "id": "V_NJtx1d1ey6",
        "colab_type": "code",
        "colab": {}
      },
      "cell_type": "code",
      "source": [
        "  "
      ],
      "execution_count": 0,
      "outputs": []
    }
  ]
}