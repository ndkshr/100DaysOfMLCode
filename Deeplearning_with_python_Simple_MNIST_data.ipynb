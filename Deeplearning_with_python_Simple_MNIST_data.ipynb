{
  "nbformat": 4,
  "nbformat_minor": 0,
  "metadata": {
    "colab": {
      "name": "Deeplearning with python: Simple MNIST data.ipynb",
      "version": "0.3.2",
      "provenance": [],
      "include_colab_link": true
    },
    "kernelspec": {
      "name": "python3",
      "display_name": "Python 3"
    }
  },
  "cells": [
    {
      "cell_type": "markdown",
      "metadata": {
        "id": "view-in-github",
        "colab_type": "text"
      },
      "source": [
        "[View in Colaboratory](https://colab.research.google.com/github/ndkshr/100DaysOfMLCode/blob/master/Deeplearning_with_python_Simple_MNIST_data.ipynb)"
      ]
    },
    {
      "metadata": {
        "id": "K8vKEbdlu2dt",
        "colab_type": "code",
        "colab": {
          "base_uri": "https://localhost:8080/",
          "height": 347
        },
        "outputId": "8a117b25-01e7-442a-8952-78172461f938"
      },
      "cell_type": "code",
      "source": [
        "import matplotlib.pyplot as plt\n",
        "\n",
        "plt.imshow(x_train[0], cmap = plt.cm.binary)\n",
        "plt.show()"
      ],
      "execution_count": 12,
      "outputs": [
        {
          "output_type": "display_data",
          "data": {
            "image/png": "[encoded data removed]",
            "text/plain": [
              "<matplotlib.figure.Figure at 0x7f552008c128>"
            ]
          },
          "metadata": {
            "tags": []
          }
        }
      ]
    },
    {
      "metadata": {
        "id": "3zK4rA4ztsbW",
        "colab_type": "code",
        "colab": {}
      },
      "cell_type": "code",
      "source": [
        "import tensorflow as tf\n",
        "mnist = tf.keras.datasets.mnist\n",
        "\n",
        "(x_train, y_train), (x_test, y_test)= mnist.load_data()\n",
        "\n",
        "#feature normalization : all the pixels ranging from 0 - 255 are normalized to the range 0 - 1\n",
        "x_train = tf.keras.utils.normalize(x_train, axis = 1)\n",
        "x_test = tf.keras.utils.normalize(x_test, axis = 1)\n",
        "\n",
        "#the Neural Network is designed sequentially adding one layer after another\n",
        "model = tf.keras.models.Sequential()\n",
        "model.add(tf.keras.layers.Flatten()) # the input layer\n",
        "model.add(tf.keras.layers.Dense(128, activation = tf.nn.relu)) #first hidden layer uses relu activation function\n",
        "model.add(tf.keras.layers.Dense(128, activation = tf.nn.relu)) #second hidden layer uses relu activation function\n",
        "model.add(tf.keras.layers.Dense(10, activation = tf.nn.softmax)) #output layer of the neural network uses a softmax for activation\n",
        "\n",
        "#The optimizer is basically the cost function calculation, we use the Adam optimizer for optimizing the cost\n",
        "#The loss function is a sparse categorical cross entropy function\n",
        "model.compile(optimizer = 'adam',\n",
        "             loss = 'sparse_categorical_crossentropy',\n",
        "             metrics = ['accuracy'])\n",
        "\n",
        "#The model is trained using the created Neural Network and the training data set, the entire data set is divided into 3 epochs\n",
        "#The model does forward and backpropogation on its own\n",
        "model.fit(x_train, y_train, epochs = 3)"
      ],
      "execution_count": 0,
      "outputs": []
    },
    {
      "metadata": {
        "id": "IA3a3OgMvnzC",
        "colab_type": "code",
        "colab": {}
      },
      "cell_type": "code",
      "source": [
        "#The loss and acuracy of the model is evaluated\n",
        "#Loss is the change in hypothesis and the original label in the data set.\n",
        "#The objective is to:\n",
        "#                     Minimize the loss\n",
        "#                     Maximize the accuracy\n",
        "val_loss, val_acc = model.evaluate(x_test, y_test)\n",
        "print('Loss:', val_loss,\n",
        "      '\\nAccuracy:', val_acc)"
      ],
      "execution_count": 0,
      "outputs": []
    },
    {
      "metadata": {
        "id": "wpCGXkyA8JAO",
        "colab_type": "code",
        "colab": {}
      },
      "cell_type": "code",
      "source": [
        "#The model is tested on the test data and the output is saved in the predictions matrix\n",
        "#The prediction matrix outputs a 10 (one for each no from 1-10) element long list\n",
        "#The index with the maximum value is the victor and hence the model's prediction\n",
        "predictions = model.predict([x_test])"
      ],
      "execution_count": 0,
      "outputs": []
    },
    {
      "metadata": {
        "id": "ahFRimY6-o3Y",
        "colab_type": "code",
        "colab": {
          "base_uri": "https://localhost:8080/",
          "height": 52
        },
        "outputId": "eef802cc-a061-408f-b1bd-3559ffa9b246"
      },
      "cell_type": "code",
      "source": [
        "print('The shape of the prediction matrix \\n(#size_of_the_test_data, #size_of_the_output_layer) ->', predictions.shape)"
      ],
      "execution_count": 49,
      "outputs": [
        {
          "output_type": "stream",
          "text": [
            "The shape of the prediction matrix \n",
            "(#size_of_the_test_data, #size_of_the_output_layer) -> (10000, 10)\n"
          ],
          "name": "stdout"
        }
      ]
    },
    {
      "metadata": {
        "id": "EZK0t5-b_3mC",
        "colab_type": "code",
        "colab": {
          "base_uri": "https://localhost:8080/",
          "height": 382
        },
        "outputId": "ca7a742b-2f38-4b59-dd0d-4feaa50fa7f6"
      },
      "cell_type": "code",
      "source": [
        "#Show the prediction with the max value in the output of the predictions list in the data Row\n",
        "import numpy as np\n",
        "image_index = int(np.random.randn()*1000)\n",
        "\n",
        "print(\"Predictions for the %d th image is ->\"%(image_index), np.argmax(predictions[image_index]))\n",
        "print('Original Label ->', y_test[image_index])\n",
        "plt.imshow(x_test[image_index])\n",
        "plt.show()"
      ],
      "execution_count": 80,
      "outputs": [
        {
          "output_type": "stream",
          "text": [
            "Predictions for the 1107 th image is -> 9\n",
            "Original Label -> 9\n"
          ],
          "name": "stdout"
        },
        {
          "output_type": "display_data",
          "data": {
            "image/png": "[encoded data removed]",
            "text/plain": [
              "<matplotlib.figure.Figure at 0x7f551b49c320>"
            ]
          },
          "metadata": {
            "tags": []
          }
        }
      ]
    },
    {
      "metadata": {
        "id": "LEJzV7X1_8e_",
        "colab_type": "code",
        "colab": {}
      },
      "cell_type": "code",
      "source": [
        ""
      ],
      "execution_count": 0,
      "outputs": []
    }
  ]
}